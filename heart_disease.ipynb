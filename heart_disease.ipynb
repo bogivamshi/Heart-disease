{
 "cells": [
  {
   "cell_type": "markdown",
   "metadata": {},
   "source": [
    "Import Tools"
   ]
  },
  {
   "cell_type": "code",
   "execution_count": 82,
   "metadata": {},
   "outputs": [],
   "source": [
    "import numpy as np\n",
    "import pandas as pd\n",
    "import matplotlib.pyplot as plt\n",
    "import seaborn as sns\n",
    "%matplotlib inline\n",
    "from sklearn.linear_model import LogisticRegression\n",
    "from sklearn.neighbors import KNeighborsClassifier\n",
    "from sklearn.ensemble import RandomForestClassifier\n",
    "from sklearn.model_selection import train_test_split,cross_val_score,RandomizedSearchCV,GridSearchCV\n",
    "from sklearn.metrics import confusion_matrix,classification_report,precision_score,f1_score,recall_score,plot_roc_curve,roc_curve,roc_auc_score"
   ]
  },
  {
   "cell_type": "markdown",
   "metadata": {},
   "source": [
    "Get our Data Ready"
   ]
  },
  {
   "cell_type": "code",
   "execution_count": 3,
   "metadata": {},
   "outputs": [
    {
     "data": {
      "text/plain": [
       "(303, 14)"
      ]
     },
     "execution_count": 3,
     "metadata": {},
     "output_type": "execute_result"
    }
   ],
   "source": [
    "df=pd.read_csv('heart-disease.csv')\n",
    "df.shape"
   ]
  },
  {
   "cell_type": "code",
   "execution_count": 4,
   "metadata": {},
   "outputs": [
    {
     "data": {
      "text/html": [
       "<div>\n",
       "<style scoped>\n",
       "    .dataframe tbody tr th:only-of-type {\n",
       "        vertical-align: middle;\n",
       "    }\n",
       "\n",
       "    .dataframe tbody tr th {\n",
       "        vertical-align: top;\n",
       "    }\n",
       "\n",
       "    .dataframe thead th {\n",
       "        text-align: right;\n",
       "    }\n",
       "</style>\n",
       "<table border=\"1\" class=\"dataframe\">\n",
       "  <thead>\n",
       "    <tr style=\"text-align: right;\">\n",
       "      <th></th>\n",
       "      <th>age</th>\n",
       "      <th>sex</th>\n",
       "      <th>cp</th>\n",
       "      <th>trestbps</th>\n",
       "      <th>chol</th>\n",
       "      <th>fbs</th>\n",
       "      <th>restecg</th>\n",
       "      <th>thalach</th>\n",
       "      <th>exang</th>\n",
       "      <th>oldpeak</th>\n",
       "      <th>slope</th>\n",
       "      <th>ca</th>\n",
       "      <th>thal</th>\n",
       "      <th>target</th>\n",
       "    </tr>\n",
       "  </thead>\n",
       "  <tbody>\n",
       "    <tr>\n",
       "      <th>count</th>\n",
       "      <td>303.000000</td>\n",
       "      <td>303.000000</td>\n",
       "      <td>303.000000</td>\n",
       "      <td>303.000000</td>\n",
       "      <td>303.000000</td>\n",
       "      <td>303.000000</td>\n",
       "      <td>303.000000</td>\n",
       "      <td>303.000000</td>\n",
       "      <td>303.000000</td>\n",
       "      <td>303.000000</td>\n",
       "      <td>303.000000</td>\n",
       "      <td>303.000000</td>\n",
       "      <td>303.000000</td>\n",
       "      <td>303.000000</td>\n",
       "    </tr>\n",
       "    <tr>\n",
       "      <th>mean</th>\n",
       "      <td>54.366337</td>\n",
       "      <td>0.683168</td>\n",
       "      <td>0.966997</td>\n",
       "      <td>131.623762</td>\n",
       "      <td>246.264026</td>\n",
       "      <td>0.148515</td>\n",
       "      <td>0.528053</td>\n",
       "      <td>149.646865</td>\n",
       "      <td>0.326733</td>\n",
       "      <td>1.039604</td>\n",
       "      <td>1.399340</td>\n",
       "      <td>0.729373</td>\n",
       "      <td>2.313531</td>\n",
       "      <td>0.544554</td>\n",
       "    </tr>\n",
       "    <tr>\n",
       "      <th>std</th>\n",
       "      <td>9.082101</td>\n",
       "      <td>0.466011</td>\n",
       "      <td>1.032052</td>\n",
       "      <td>17.538143</td>\n",
       "      <td>51.830751</td>\n",
       "      <td>0.356198</td>\n",
       "      <td>0.525860</td>\n",
       "      <td>22.905161</td>\n",
       "      <td>0.469794</td>\n",
       "      <td>1.161075</td>\n",
       "      <td>0.616226</td>\n",
       "      <td>1.022606</td>\n",
       "      <td>0.612277</td>\n",
       "      <td>0.498835</td>\n",
       "    </tr>\n",
       "    <tr>\n",
       "      <th>min</th>\n",
       "      <td>29.000000</td>\n",
       "      <td>0.000000</td>\n",
       "      <td>0.000000</td>\n",
       "      <td>94.000000</td>\n",
       "      <td>126.000000</td>\n",
       "      <td>0.000000</td>\n",
       "      <td>0.000000</td>\n",
       "      <td>71.000000</td>\n",
       "      <td>0.000000</td>\n",
       "      <td>0.000000</td>\n",
       "      <td>0.000000</td>\n",
       "      <td>0.000000</td>\n",
       "      <td>0.000000</td>\n",
       "      <td>0.000000</td>\n",
       "    </tr>\n",
       "    <tr>\n",
       "      <th>25%</th>\n",
       "      <td>47.500000</td>\n",
       "      <td>0.000000</td>\n",
       "      <td>0.000000</td>\n",
       "      <td>120.000000</td>\n",
       "      <td>211.000000</td>\n",
       "      <td>0.000000</td>\n",
       "      <td>0.000000</td>\n",
       "      <td>133.500000</td>\n",
       "      <td>0.000000</td>\n",
       "      <td>0.000000</td>\n",
       "      <td>1.000000</td>\n",
       "      <td>0.000000</td>\n",
       "      <td>2.000000</td>\n",
       "      <td>0.000000</td>\n",
       "    </tr>\n",
       "    <tr>\n",
       "      <th>50%</th>\n",
       "      <td>55.000000</td>\n",
       "      <td>1.000000</td>\n",
       "      <td>1.000000</td>\n",
       "      <td>130.000000</td>\n",
       "      <td>240.000000</td>\n",
       "      <td>0.000000</td>\n",
       "      <td>1.000000</td>\n",
       "      <td>153.000000</td>\n",
       "      <td>0.000000</td>\n",
       "      <td>0.800000</td>\n",
       "      <td>1.000000</td>\n",
       "      <td>0.000000</td>\n",
       "      <td>2.000000</td>\n",
       "      <td>1.000000</td>\n",
       "    </tr>\n",
       "    <tr>\n",
       "      <th>75%</th>\n",
       "      <td>61.000000</td>\n",
       "      <td>1.000000</td>\n",
       "      <td>2.000000</td>\n",
       "      <td>140.000000</td>\n",
       "      <td>274.500000</td>\n",
       "      <td>0.000000</td>\n",
       "      <td>1.000000</td>\n",
       "      <td>166.000000</td>\n",
       "      <td>1.000000</td>\n",
       "      <td>1.600000</td>\n",
       "      <td>2.000000</td>\n",
       "      <td>1.000000</td>\n",
       "      <td>3.000000</td>\n",
       "      <td>1.000000</td>\n",
       "    </tr>\n",
       "    <tr>\n",
       "      <th>max</th>\n",
       "      <td>77.000000</td>\n",
       "      <td>1.000000</td>\n",
       "      <td>3.000000</td>\n",
       "      <td>200.000000</td>\n",
       "      <td>564.000000</td>\n",
       "      <td>1.000000</td>\n",
       "      <td>2.000000</td>\n",
       "      <td>202.000000</td>\n",
       "      <td>1.000000</td>\n",
       "      <td>6.200000</td>\n",
       "      <td>2.000000</td>\n",
       "      <td>4.000000</td>\n",
       "      <td>3.000000</td>\n",
       "      <td>1.000000</td>\n",
       "    </tr>\n",
       "  </tbody>\n",
       "</table>\n",
       "</div>"
      ],
      "text/plain": [
       "              age         sex          cp    trestbps        chol         fbs  \\\n",
       "count  303.000000  303.000000  303.000000  303.000000  303.000000  303.000000   \n",
       "mean    54.366337    0.683168    0.966997  131.623762  246.264026    0.148515   \n",
       "std      9.082101    0.466011    1.032052   17.538143   51.830751    0.356198   \n",
       "min     29.000000    0.000000    0.000000   94.000000  126.000000    0.000000   \n",
       "25%     47.500000    0.000000    0.000000  120.000000  211.000000    0.000000   \n",
       "50%     55.000000    1.000000    1.000000  130.000000  240.000000    0.000000   \n",
       "75%     61.000000    1.000000    2.000000  140.000000  274.500000    0.000000   \n",
       "max     77.000000    1.000000    3.000000  200.000000  564.000000    1.000000   \n",
       "\n",
       "          restecg     thalach       exang     oldpeak       slope          ca  \\\n",
       "count  303.000000  303.000000  303.000000  303.000000  303.000000  303.000000   \n",
       "mean     0.528053  149.646865    0.326733    1.039604    1.399340    0.729373   \n",
       "std      0.525860   22.905161    0.469794    1.161075    0.616226    1.022606   \n",
       "min      0.000000   71.000000    0.000000    0.000000    0.000000    0.000000   \n",
       "25%      0.000000  133.500000    0.000000    0.000000    1.000000    0.000000   \n",
       "50%      1.000000  153.000000    0.000000    0.800000    1.000000    0.000000   \n",
       "75%      1.000000  166.000000    1.000000    1.600000    2.000000    1.000000   \n",
       "max      2.000000  202.000000    1.000000    6.200000    2.000000    4.000000   \n",
       "\n",
       "             thal      target  \n",
       "count  303.000000  303.000000  \n",
       "mean     2.313531    0.544554  \n",
       "std      0.612277    0.498835  \n",
       "min      0.000000    0.000000  \n",
       "25%      2.000000    0.000000  \n",
       "50%      2.000000    1.000000  \n",
       "75%      3.000000    1.000000  \n",
       "max      3.000000    1.000000  "
      ]
     },
     "execution_count": 4,
     "metadata": {},
     "output_type": "execute_result"
    }
   ],
   "source": [
    "df.describe()"
   ]
  },
  {
   "cell_type": "code",
   "execution_count": 5,
   "metadata": {},
   "outputs": [
    {
     "data": {
      "text/plain": [
       "age         0\n",
       "sex         0\n",
       "cp          0\n",
       "trestbps    0\n",
       "chol        0\n",
       "fbs         0\n",
       "restecg     0\n",
       "thalach     0\n",
       "exang       0\n",
       "oldpeak     0\n",
       "slope       0\n",
       "ca          0\n",
       "thal        0\n",
       "target      0\n",
       "dtype: int64"
      ]
     },
     "execution_count": 5,
     "metadata": {},
     "output_type": "execute_result"
    }
   ],
   "source": [
    "df.isna().sum()"
   ]
  },
  {
   "cell_type": "markdown",
   "metadata": {},
   "source": [
    "Heart Disease Frequency according to Sex"
   ]
  },
  {
   "cell_type": "code",
   "execution_count": 6,
   "metadata": {},
   "outputs": [
    {
     "data": {
      "text/plain": [
       "1    207\n",
       "0     96\n",
       "Name: sex, dtype: int64"
      ]
     },
     "execution_count": 6,
     "metadata": {},
     "output_type": "execute_result"
    }
   ],
   "source": [
    "df.sex.value_counts()"
   ]
  },
  {
   "cell_type": "code",
   "execution_count": 7,
   "metadata": {},
   "outputs": [
    {
     "data": {
      "text/html": [
       "<div>\n",
       "<style scoped>\n",
       "    .dataframe tbody tr th:only-of-type {\n",
       "        vertical-align: middle;\n",
       "    }\n",
       "\n",
       "    .dataframe tbody tr th {\n",
       "        vertical-align: top;\n",
       "    }\n",
       "\n",
       "    .dataframe thead th {\n",
       "        text-align: right;\n",
       "    }\n",
       "</style>\n",
       "<table border=\"1\" class=\"dataframe\">\n",
       "  <thead>\n",
       "    <tr style=\"text-align: right;\">\n",
       "      <th>sex</th>\n",
       "      <th>0</th>\n",
       "      <th>1</th>\n",
       "    </tr>\n",
       "    <tr>\n",
       "      <th>target</th>\n",
       "      <th></th>\n",
       "      <th></th>\n",
       "    </tr>\n",
       "  </thead>\n",
       "  <tbody>\n",
       "    <tr>\n",
       "      <th>0</th>\n",
       "      <td>24</td>\n",
       "      <td>114</td>\n",
       "    </tr>\n",
       "    <tr>\n",
       "      <th>1</th>\n",
       "      <td>72</td>\n",
       "      <td>93</td>\n",
       "    </tr>\n",
       "  </tbody>\n",
       "</table>\n",
       "</div>"
      ],
      "text/plain": [
       "sex      0    1\n",
       "target         \n",
       "0       24  114\n",
       "1       72   93"
      ]
     },
     "execution_count": 7,
     "metadata": {},
     "output_type": "execute_result"
    }
   ],
   "source": [
    "pd.crosstab(df.target,df.sex)"
   ]
  },
  {
   "cell_type": "code",
   "execution_count": 16,
   "metadata": {},
   "outputs": [
    {
     "data": {
      "image/png": "[encoded data removed]",
      "text/plain": [
       "<Figure size 720x432 with 1 Axes>"
      ]
     },
     "metadata": {
      "needs_background": "light"
     },
     "output_type": "display_data"
    }
   ],
   "source": [
    "#Plot of crosstab\n",
    "pd.crosstab(df.target,df.sex).plot(kind='bar',figsize=(10,6))\n",
    "plt.title(\"Heart Disease Frequency for sex\")\n",
    "plt.xlabel(\"0 = No Diesease, 1 = Diesease\")\n",
    "plt.ylabel(\"Amount\")\n",
    "plt.legend([\"female\",\"male\"]);"
   ]
  },
  {
   "cell_type": "markdown",
   "metadata": {},
   "source": [
    "Age vs. Max Heart Rate for Heart Disease"
   ]
  },
  {
   "cell_type": "code",
   "execution_count": 15,
   "metadata": {},
   "outputs": [
    {
     "data": {
      "image/png": "[encoded data removed]",
      "text/plain": [
       "<Figure size 720x432 with 1 Axes>"
      ]
     },
     "metadata": {
      "needs_background": "light"
     },
     "output_type": "display_data"
    }
   ],
   "source": [
    "plt.figure(figsize=(10,6))\n",
    "plt.scatter(df.age[df.target==1],\n",
    "            df.thalach[df.target==1],\n",
    "            c='salmon')\n",
    "plt.scatter(df.age[df.target==0],\n",
    "            df.thalach[df.target==0],\n",
    "            c='skyblue');\n",
    "plt.title(\"HEart Disease in function of Age and Max Heart Rate\")\n",
    "plt.xlabel('Age')\n",
    "plt.ylabel('Max Heart Rate')\n",
    "plt.legend(['Disease','No Disease']);"
   ]
  },
  {
   "cell_type": "code",
   "execution_count": 19,
   "metadata": {},
   "outputs": [
    {
     "data": {
      "image/png": "[encoded data removed]",
      "text/plain": [
       "<Figure size 720x432 with 1 Axes>"
      ]
     },
     "metadata": {
      "needs_background": "light"
     },
     "output_type": "display_data"
    }
   ],
   "source": [
    "#check the Distribution of the age column with hist\n",
    "df.age.plot.hist(figsize=(10,6));"
   ]
  },
  {
   "cell_type": "code",
   "execution_count": 22,
   "metadata": {},
   "outputs": [
    {
     "data": {
      "image/png": "[encoded data removed]",
      "text/plain": [
       "<Figure size 720x432 with 1 Axes>"
      ]
     },
     "metadata": {
      "needs_background": "light"
     },
     "output_type": "display_data"
    }
   ],
   "source": [
    "#Heart Disease Frequency per Chest Pain Type\n",
    "pd.crosstab(df.cp,df.target).plot(kind='bar',figsize=(10,6))\n",
    "plt.title(\"Heart Disease with chest pain\")\n",
    "plt.xlabel(\"Chest Pain Types\")\n",
    "plt.ylabel(\"Amount\")\n",
    "plt.legend(['Disease','No Disease']);"
   ]
  },
  {
   "cell_type": "code",
   "execution_count": 23,
   "metadata": {},
   "outputs": [
    {
     "data": {
      "text/html": [
       "<div>\n",
       "<style scoped>\n",
       "    .dataframe tbody tr th:only-of-type {\n",
       "        vertical-align: middle;\n",
       "    }\n",
       "\n",
       "    .dataframe tbody tr th {\n",
       "        vertical-align: top;\n",
       "    }\n",
       "\n",
       "    .dataframe thead th {\n",
       "        text-align: right;\n",
       "    }\n",
       "</style>\n",
       "<table border=\"1\" class=\"dataframe\">\n",
       "  <thead>\n",
       "    <tr style=\"text-align: right;\">\n",
       "      <th></th>\n",
       "      <th>age</th>\n",
       "      <th>sex</th>\n",
       "      <th>cp</th>\n",
       "      <th>trestbps</th>\n",
       "      <th>chol</th>\n",
       "      <th>fbs</th>\n",
       "      <th>restecg</th>\n",
       "      <th>thalach</th>\n",
       "      <th>exang</th>\n",
       "      <th>oldpeak</th>\n",
       "      <th>slope</th>\n",
       "      <th>ca</th>\n",
       "      <th>thal</th>\n",
       "      <th>target</th>\n",
       "    </tr>\n",
       "  </thead>\n",
       "  <tbody>\n",
       "    <tr>\n",
       "      <th>age</th>\n",
       "      <td>1.000000</td>\n",
       "      <td>-0.098447</td>\n",
       "      <td>-0.068653</td>\n",
       "      <td>0.279351</td>\n",
       "      <td>0.213678</td>\n",
       "      <td>0.121308</td>\n",
       "      <td>-0.116211</td>\n",
       "      <td>-0.398522</td>\n",
       "      <td>0.096801</td>\n",
       "      <td>0.210013</td>\n",
       "      <td>-0.168814</td>\n",
       "      <td>0.276326</td>\n",
       "      <td>0.068001</td>\n",
       "      <td>-0.225439</td>\n",
       "    </tr>\n",
       "    <tr>\n",
       "      <th>sex</th>\n",
       "      <td>-0.098447</td>\n",
       "      <td>1.000000</td>\n",
       "      <td>-0.049353</td>\n",
       "      <td>-0.056769</td>\n",
       "      <td>-0.197912</td>\n",
       "      <td>0.045032</td>\n",
       "      <td>-0.058196</td>\n",
       "      <td>-0.044020</td>\n",
       "      <td>0.141664</td>\n",
       "      <td>0.096093</td>\n",
       "      <td>-0.030711</td>\n",
       "      <td>0.118261</td>\n",
       "      <td>0.210041</td>\n",
       "      <td>-0.280937</td>\n",
       "    </tr>\n",
       "    <tr>\n",
       "      <th>cp</th>\n",
       "      <td>-0.068653</td>\n",
       "      <td>-0.049353</td>\n",
       "      <td>1.000000</td>\n",
       "      <td>0.047608</td>\n",
       "      <td>-0.076904</td>\n",
       "      <td>0.094444</td>\n",
       "      <td>0.044421</td>\n",
       "      <td>0.295762</td>\n",
       "      <td>-0.394280</td>\n",
       "      <td>-0.149230</td>\n",
       "      <td>0.119717</td>\n",
       "      <td>-0.181053</td>\n",
       "      <td>-0.161736</td>\n",
       "      <td>0.433798</td>\n",
       "    </tr>\n",
       "    <tr>\n",
       "      <th>trestbps</th>\n",
       "      <td>0.279351</td>\n",
       "      <td>-0.056769</td>\n",
       "      <td>0.047608</td>\n",
       "      <td>1.000000</td>\n",
       "      <td>0.123174</td>\n",
       "      <td>0.177531</td>\n",
       "      <td>-0.114103</td>\n",
       "      <td>-0.046698</td>\n",
       "      <td>0.067616</td>\n",
       "      <td>0.193216</td>\n",
       "      <td>-0.121475</td>\n",
       "      <td>0.101389</td>\n",
       "      <td>0.062210</td>\n",
       "      <td>-0.144931</td>\n",
       "    </tr>\n",
       "    <tr>\n",
       "      <th>chol</th>\n",
       "      <td>0.213678</td>\n",
       "      <td>-0.197912</td>\n",
       "      <td>-0.076904</td>\n",
       "      <td>0.123174</td>\n",
       "      <td>1.000000</td>\n",
       "      <td>0.013294</td>\n",
       "      <td>-0.151040</td>\n",
       "      <td>-0.009940</td>\n",
       "      <td>0.067023</td>\n",
       "      <td>0.053952</td>\n",
       "      <td>-0.004038</td>\n",
       "      <td>0.070511</td>\n",
       "      <td>0.098803</td>\n",
       "      <td>-0.085239</td>\n",
       "    </tr>\n",
       "    <tr>\n",
       "      <th>fbs</th>\n",
       "      <td>0.121308</td>\n",
       "      <td>0.045032</td>\n",
       "      <td>0.094444</td>\n",
       "      <td>0.177531</td>\n",
       "      <td>0.013294</td>\n",
       "      <td>1.000000</td>\n",
       "      <td>-0.084189</td>\n",
       "      <td>-0.008567</td>\n",
       "      <td>0.025665</td>\n",
       "      <td>0.005747</td>\n",
       "      <td>-0.059894</td>\n",
       "      <td>0.137979</td>\n",
       "      <td>-0.032019</td>\n",
       "      <td>-0.028046</td>\n",
       "    </tr>\n",
       "    <tr>\n",
       "      <th>restecg</th>\n",
       "      <td>-0.116211</td>\n",
       "      <td>-0.058196</td>\n",
       "      <td>0.044421</td>\n",
       "      <td>-0.114103</td>\n",
       "      <td>-0.151040</td>\n",
       "      <td>-0.084189</td>\n",
       "      <td>1.000000</td>\n",
       "      <td>0.044123</td>\n",
       "      <td>-0.070733</td>\n",
       "      <td>-0.058770</td>\n",
       "      <td>0.093045</td>\n",
       "      <td>-0.072042</td>\n",
       "      <td>-0.011981</td>\n",
       "      <td>0.137230</td>\n",
       "    </tr>\n",
       "    <tr>\n",
       "      <th>thalach</th>\n",
       "      <td>-0.398522</td>\n",
       "      <td>-0.044020</td>\n",
       "      <td>0.295762</td>\n",
       "      <td>-0.046698</td>\n",
       "      <td>-0.009940</td>\n",
       "      <td>-0.008567</td>\n",
       "      <td>0.044123</td>\n",
       "      <td>1.000000</td>\n",
       "      <td>-0.378812</td>\n",
       "      <td>-0.344187</td>\n",
       "      <td>0.386784</td>\n",
       "      <td>-0.213177</td>\n",
       "      <td>-0.096439</td>\n",
       "      <td>0.421741</td>\n",
       "    </tr>\n",
       "    <tr>\n",
       "      <th>exang</th>\n",
       "      <td>0.096801</td>\n",
       "      <td>0.141664</td>\n",
       "      <td>-0.394280</td>\n",
       "      <td>0.067616</td>\n",
       "      <td>0.067023</td>\n",
       "      <td>0.025665</td>\n",
       "      <td>-0.070733</td>\n",
       "      <td>-0.378812</td>\n",
       "      <td>1.000000</td>\n",
       "      <td>0.288223</td>\n",
       "      <td>-0.257748</td>\n",
       "      <td>0.115739</td>\n",
       "      <td>0.206754</td>\n",
       "      <td>-0.436757</td>\n",
       "    </tr>\n",
       "    <tr>\n",
       "      <th>oldpeak</th>\n",
       "      <td>0.210013</td>\n",
       "      <td>0.096093</td>\n",
       "      <td>-0.149230</td>\n",
       "      <td>0.193216</td>\n",
       "      <td>0.053952</td>\n",
       "      <td>0.005747</td>\n",
       "      <td>-0.058770</td>\n",
       "      <td>-0.344187</td>\n",
       "      <td>0.288223</td>\n",
       "      <td>1.000000</td>\n",
       "      <td>-0.577537</td>\n",
       "      <td>0.222682</td>\n",
       "      <td>0.210244</td>\n",
       "      <td>-0.430696</td>\n",
       "    </tr>\n",
       "    <tr>\n",
       "      <th>slope</th>\n",
       "      <td>-0.168814</td>\n",
       "      <td>-0.030711</td>\n",
       "      <td>0.119717</td>\n",
       "      <td>-0.121475</td>\n",
       "      <td>-0.004038</td>\n",
       "      <td>-0.059894</td>\n",
       "      <td>0.093045</td>\n",
       "      <td>0.386784</td>\n",
       "      <td>-0.257748</td>\n",
       "      <td>-0.577537</td>\n",
       "      <td>1.000000</td>\n",
       "      <td>-0.080155</td>\n",
       "      <td>-0.104764</td>\n",
       "      <td>0.345877</td>\n",
       "    </tr>\n",
       "    <tr>\n",
       "      <th>ca</th>\n",
       "      <td>0.276326</td>\n",
       "      <td>0.118261</td>\n",
       "      <td>-0.181053</td>\n",
       "      <td>0.101389</td>\n",
       "      <td>0.070511</td>\n",
       "      <td>0.137979</td>\n",
       "      <td>-0.072042</td>\n",
       "      <td>-0.213177</td>\n",
       "      <td>0.115739</td>\n",
       "      <td>0.222682</td>\n",
       "      <td>-0.080155</td>\n",
       "      <td>1.000000</td>\n",
       "      <td>0.151832</td>\n",
       "      <td>-0.391724</td>\n",
       "    </tr>\n",
       "    <tr>\n",
       "      <th>thal</th>\n",
       "      <td>0.068001</td>\n",
       "      <td>0.210041</td>\n",
       "      <td>-0.161736</td>\n",
       "      <td>0.062210</td>\n",
       "      <td>0.098803</td>\n",
       "      <td>-0.032019</td>\n",
       "      <td>-0.011981</td>\n",
       "      <td>-0.096439</td>\n",
       "      <td>0.206754</td>\n",
       "      <td>0.210244</td>\n",
       "      <td>-0.104764</td>\n",
       "      <td>0.151832</td>\n",
       "      <td>1.000000</td>\n",
       "      <td>-0.344029</td>\n",
       "    </tr>\n",
       "    <tr>\n",
       "      <th>target</th>\n",
       "      <td>-0.225439</td>\n",
       "      <td>-0.280937</td>\n",
       "      <td>0.433798</td>\n",
       "      <td>-0.144931</td>\n",
       "      <td>-0.085239</td>\n",
       "      <td>-0.028046</td>\n",
       "      <td>0.137230</td>\n",
       "      <td>0.421741</td>\n",
       "      <td>-0.436757</td>\n",
       "      <td>-0.430696</td>\n",
       "      <td>0.345877</td>\n",
       "      <td>-0.391724</td>\n",
       "      <td>-0.344029</td>\n",
       "      <td>1.000000</td>\n",
       "    </tr>\n",
       "  </tbody>\n",
       "</table>\n",
       "</div>"
      ],
      "text/plain": [
       "               age       sex        cp  trestbps      chol       fbs  \\\n",
       "age       1.000000 -0.098447 -0.068653  0.279351  0.213678  0.121308   \n",
       "sex      -0.098447  1.000000 -0.049353 -0.056769 -0.197912  0.045032   \n",
       "cp       -0.068653 -0.049353  1.000000  0.047608 -0.076904  0.094444   \n",
       "trestbps  0.279351 -0.056769  0.047608  1.000000  0.123174  0.177531   \n",
       "chol      0.213678 -0.197912 -0.076904  0.123174  1.000000  0.013294   \n",
       "fbs       0.121308  0.045032  0.094444  0.177531  0.013294  1.000000   \n",
       "restecg  -0.116211 -0.058196  0.044421 -0.114103 -0.151040 -0.084189   \n",
       "thalach  -0.398522 -0.044020  0.295762 -0.046698 -0.009940 -0.008567   \n",
       "exang     0.096801  0.141664 -0.394280  0.067616  0.067023  0.025665   \n",
       "oldpeak   0.210013  0.096093 -0.149230  0.193216  0.053952  0.005747   \n",
       "slope    -0.168814 -0.030711  0.119717 -0.121475 -0.004038 -0.059894   \n",
       "ca        0.276326  0.118261 -0.181053  0.101389  0.070511  0.137979   \n",
       "thal      0.068001  0.210041 -0.161736  0.062210  0.098803 -0.032019   \n",
       "target   -0.225439 -0.280937  0.433798 -0.144931 -0.085239 -0.028046   \n",
       "\n",
       "           restecg   thalach     exang   oldpeak     slope        ca  \\\n",
       "age      -0.116211 -0.398522  0.096801  0.210013 -0.168814  0.276326   \n",
       "sex      -0.058196 -0.044020  0.141664  0.096093 -0.030711  0.118261   \n",
       "cp        0.044421  0.295762 -0.394280 -0.149230  0.119717 -0.181053   \n",
       "trestbps -0.114103 -0.046698  0.067616  0.193216 -0.121475  0.101389   \n",
       "chol     -0.151040 -0.009940  0.067023  0.053952 -0.004038  0.070511   \n",
       "fbs      -0.084189 -0.008567  0.025665  0.005747 -0.059894  0.137979   \n",
       "restecg   1.000000  0.044123 -0.070733 -0.058770  0.093045 -0.072042   \n",
       "thalach   0.044123  1.000000 -0.378812 -0.344187  0.386784 -0.213177   \n",
       "exang    -0.070733 -0.378812  1.000000  0.288223 -0.257748  0.115739   \n",
       "oldpeak  -0.058770 -0.344187  0.288223  1.000000 -0.577537  0.222682   \n",
       "slope     0.093045  0.386784 -0.257748 -0.577537  1.000000 -0.080155   \n",
       "ca       -0.072042 -0.213177  0.115739  0.222682 -0.080155  1.000000   \n",
       "thal     -0.011981 -0.096439  0.206754  0.210244 -0.104764  0.151832   \n",
       "target    0.137230  0.421741 -0.436757 -0.430696  0.345877 -0.391724   \n",
       "\n",
       "              thal    target  \n",
       "age       0.068001 -0.225439  \n",
       "sex       0.210041 -0.280937  \n",
       "cp       -0.161736  0.433798  \n",
       "trestbps  0.062210 -0.144931  \n",
       "chol      0.098803 -0.085239  \n",
       "fbs      -0.032019 -0.028046  \n",
       "restecg  -0.011981  0.137230  \n",
       "thalach  -0.096439  0.421741  \n",
       "exang     0.206754 -0.436757  \n",
       "oldpeak   0.210244 -0.430696  \n",
       "slope    -0.104764  0.345877  \n",
       "ca        0.151832 -0.391724  \n",
       "thal      1.000000 -0.344029  \n",
       "target   -0.344029  1.000000  "
      ]
     },
     "execution_count": 23,
     "metadata": {},
     "output_type": "execute_result"
    }
   ],
   "source": [
    "df.corr()"
   ]
  },
  {
   "cell_type": "code",
   "execution_count": 31,
   "metadata": {},
   "outputs": [
    {
     "data": {
      "image/png": "[encoded data removed]",
      "text/plain": [
       "<Figure size 1080x720 with 2 Axes>"
      ]
     },
     "metadata": {
      "needs_background": "light"
     },
     "output_type": "display_data"
    }
   ],
   "source": [
    "fig,ax=plt.subplots(figsize=(15,10))\n",
    "ax=sns.heatmap(df.corr(),annot=True,linewidths=0.5,fmt='.2f',cmap='YlGnBu');"
   ]
  },
  {
   "cell_type": "markdown",
   "metadata": {},
   "source": [
    "Modelling"
   ]
  },
  {
   "cell_type": "code",
   "execution_count": 32,
   "metadata": {},
   "outputs": [],
   "source": [
    "X=df.drop('target',axis=1)\n",
    "Y=df['target']"
   ]
  },
  {
   "cell_type": "code",
   "execution_count": 33,
   "metadata": {},
   "outputs": [],
   "source": [
    "X_train,X_test,Y_train,Y_test=train_test_split(X,Y,test_size=0.2)"
   ]
  },
  {
   "cell_type": "code",
   "execution_count": 37,
   "metadata": {},
   "outputs": [],
   "source": [
    "models={\n",
    "    'Logistic Regression':LogisticRegression(),\n",
    "    'KNN':KNeighborsClassifier(n_neighbors=7),\n",
    "    'Random Forest':RandomForestClassifier()\n",
    "}"
   ]
  },
  {
   "cell_type": "code",
   "execution_count": 38,
   "metadata": {},
   "outputs": [],
   "source": [
    "def fit_and_Score(model,x_train,x_test,y_train,y_test):\n",
    "    np.random.seed(42)\n",
    "    model_Scores={}\n",
    "    for name,model in model.items():\n",
    "        model.fit(x_train,y_train)\n",
    "        model_Scores[name]=model.score(x_test,y_test)\n",
    "    return model_Scores"
   ]
  },
  {
   "cell_type": "code",
   "execution_count": 40,
   "metadata": {},
   "outputs": [
    {
     "name": "stderr",
     "output_type": "stream",
     "text": [
      "c:\\Users\\Hello\\AppData\\Local\\Programs\\Python\\Python310\\lib\\site-packages\\sklearn\\linear_model\\_logistic.py:814: ConvergenceWarning: lbfgs failed to converge (status=1):\n",
      "STOP: TOTAL NO. of ITERATIONS REACHED LIMIT.\n",
      "\n",
      "Increase the number of iterations (max_iter) or scale the data as shown in:\n",
      "    https://scikit-learn.org/stable/modules/preprocessing.html\n",
      "Please also refer to the documentation for alternative solver options:\n",
      "    https://scikit-learn.org/stable/modules/linear_model.html#logistic-regression\n",
      "  n_iter_i = _check_optimize_result(\n"
     ]
    }
   ],
   "source": [
    "modelScore=fit_and_Score(models,X_train,X_test,Y_train,Y_test)"
   ]
  },
  {
   "cell_type": "code",
   "execution_count": 42,
   "metadata": {},
   "outputs": [
    {
     "data": {
      "image/png": "[encoded data removed]",
      "text/plain": [
       "<Figure size 432x288 with 1 Axes>"
      ]
     },
     "metadata": {
      "needs_background": "light"
     },
     "output_type": "display_data"
    }
   ],
   "source": [
    "model_compare=pd.DataFrame(modelScore,index=[\"Accuracy\"])\n",
    "model_compare.T.plot.bar();"
   ]
  },
  {
   "cell_type": "markdown",
   "metadata": {},
   "source": [
    "HyperParameter Tuning"
   ]
  },
  {
   "cell_type": "code",
   "execution_count": 55,
   "metadata": {},
   "outputs": [],
   "source": [
    "train_scores=[]\n",
    "test_score=[]\n",
    "neighbors=range(1,200)\n",
    "knn=KNeighborsClassifier()\n",
    "for i in neighbors:\n",
    "    knn.set_params(n_neighbors=i)\n",
    "    knn.fit(X_train,Y_train)\n",
    "    train_scores.append(knn.score(X_train,Y_train))\n",
    "    test_score.append(knn.score(X_test,Y_test))"
   ]
  },
  {
   "cell_type": "code",
   "execution_count": 56,
   "metadata": {},
   "outputs": [
    {
     "data": {
      "text/plain": [
       "([1.0,\n",
       "  0.8264462809917356,\n",
       "  0.7975206611570248,\n",
       "  0.7727272727272727,\n",
       "  0.78099173553719,\n",
       "  0.7768595041322314,\n",
       "  0.7520661157024794,\n",
       "  0.731404958677686,\n",
       "  0.7479338842975206,\n",
       "  0.7272727272727273,\n",
       "  0.7520661157024794,\n",
       "  0.7396694214876033,\n",
       "  0.7644628099173554,\n",
       "  0.743801652892562,\n",
       "  0.71900826446281,\n",
       "  0.7066115702479339,\n",
       "  0.7066115702479339,\n",
       "  0.7231404958677686,\n",
       "  0.7355371900826446,\n",
       "  0.743801652892562,\n",
       "  0.7479338842975206,\n",
       "  0.7396694214876033,\n",
       "  0.7479338842975206,\n",
       "  0.7396694214876033,\n",
       "  0.743801652892562,\n",
       "  0.7479338842975206,\n",
       "  0.7355371900826446,\n",
       "  0.743801652892562,\n",
       "  0.743801652892562,\n",
       "  0.7520661157024794,\n",
       "  0.743801652892562,\n",
       "  0.731404958677686,\n",
       "  0.7396694214876033,\n",
       "  0.71900826446281,\n",
       "  0.731404958677686,\n",
       "  0.7066115702479339,\n",
       "  0.731404958677686,\n",
       "  0.7107438016528925,\n",
       "  0.7231404958677686,\n",
       "  0.6900826446280992,\n",
       "  0.7024793388429752,\n",
       "  0.6983471074380165,\n",
       "  0.6983471074380165,\n",
       "  0.6859504132231405,\n",
       "  0.6942148760330579,\n",
       "  0.6983471074380165,\n",
       "  0.6859504132231405,\n",
       "  0.6983471074380165,\n",
       "  0.7107438016528925,\n",
       "  0.7107438016528925,\n",
       "  0.6983471074380165,\n",
       "  0.6942148760330579,\n",
       "  0.6694214876033058,\n",
       "  0.6735537190082644,\n",
       "  0.6652892561983471,\n",
       "  0.6735537190082644,\n",
       "  0.6694214876033058,\n",
       "  0.6735537190082644,\n",
       "  0.6611570247933884,\n",
       "  0.6611570247933884,\n",
       "  0.6528925619834711,\n",
       "  0.6528925619834711,\n",
       "  0.6528925619834711,\n",
       "  0.6487603305785123,\n",
       "  0.6446280991735537,\n",
       "  0.6239669421487604,\n",
       "  0.6446280991735537,\n",
       "  0.6363636363636364,\n",
       "  0.640495867768595,\n",
       "  0.6239669421487604,\n",
       "  0.6322314049586777,\n",
       "  0.6363636363636364,\n",
       "  0.6487603305785123,\n",
       "  0.6528925619834711,\n",
       "  0.6487603305785123,\n",
       "  0.6611570247933884,\n",
       "  0.640495867768595,\n",
       "  0.6528925619834711,\n",
       "  0.6487603305785123,\n",
       "  0.6446280991735537,\n",
       "  0.6528925619834711,\n",
       "  0.6570247933884298,\n",
       "  0.6611570247933884,\n",
       "  0.6487603305785123,\n",
       "  0.6528925619834711,\n",
       "  0.640495867768595,\n",
       "  0.640495867768595,\n",
       "  0.6322314049586777,\n",
       "  0.6446280991735537,\n",
       "  0.6322314049586777,\n",
       "  0.6363636363636364,\n",
       "  0.628099173553719,\n",
       "  0.6363636363636364,\n",
       "  0.6322314049586777,\n",
       "  0.6322314049586777,\n",
       "  0.628099173553719,\n",
       "  0.6198347107438017,\n",
       "  0.6198347107438017,\n",
       "  0.6239669421487604,\n",
       "  0.6198347107438017,\n",
       "  0.628099173553719,\n",
       "  0.6157024793388429,\n",
       "  0.6322314049586777,\n",
       "  0.6157024793388429,\n",
       "  0.6322314049586777,\n",
       "  0.628099173553719,\n",
       "  0.6198347107438017,\n",
       "  0.6074380165289256,\n",
       "  0.6239669421487604,\n",
       "  0.6239669421487604,\n",
       "  0.6322314049586777,\n",
       "  0.6363636363636364,\n",
       "  0.6363636363636364,\n",
       "  0.628099173553719,\n",
       "  0.6363636363636364,\n",
       "  0.628099173553719,\n",
       "  0.6363636363636364,\n",
       "  0.6322314049586777,\n",
       "  0.640495867768595,\n",
       "  0.6322314049586777,\n",
       "  0.6363636363636364,\n",
       "  0.640495867768595,\n",
       "  0.6570247933884298,\n",
       "  0.6487603305785123,\n",
       "  0.6446280991735537,\n",
       "  0.6363636363636364,\n",
       "  0.6363636363636364,\n",
       "  0.6239669421487604,\n",
       "  0.6239669421487604,\n",
       "  0.6115702479338843,\n",
       "  0.628099173553719,\n",
       "  0.628099173553719,\n",
       "  0.6322314049586777,\n",
       "  0.6157024793388429,\n",
       "  0.628099173553719,\n",
       "  0.6157024793388429,\n",
       "  0.6239669421487604,\n",
       "  0.6157024793388429,\n",
       "  0.6157024793388429,\n",
       "  0.6115702479338843,\n",
       "  0.6239669421487604,\n",
       "  0.6198347107438017,\n",
       "  0.628099173553719,\n",
       "  0.6239669421487604,\n",
       "  0.6363636363636364,\n",
       "  0.6446280991735537,\n",
       "  0.6446280991735537,\n",
       "  0.6446280991735537,\n",
       "  0.6446280991735537,\n",
       "  0.6487603305785123,\n",
       "  0.6322314049586777,\n",
       "  0.6363636363636364,\n",
       "  0.6446280991735537,\n",
       "  0.6652892561983471,\n",
       "  0.6446280991735537,\n",
       "  0.6363636363636364,\n",
       "  0.6322314049586777,\n",
       "  0.6363636363636364,\n",
       "  0.6322314049586777,\n",
       "  0.6363636363636364,\n",
       "  0.6322314049586777,\n",
       "  0.640495867768595,\n",
       "  0.628099173553719,\n",
       "  0.640495867768595,\n",
       "  0.628099173553719,\n",
       "  0.6363636363636364,\n",
       "  0.628099173553719,\n",
       "  0.640495867768595,\n",
       "  0.6363636363636364,\n",
       "  0.640495867768595,\n",
       "  0.640495867768595,\n",
       "  0.6363636363636364,\n",
       "  0.6363636363636364,\n",
       "  0.6363636363636364,\n",
       "  0.6198347107438017,\n",
       "  0.6239669421487604,\n",
       "  0.6157024793388429,\n",
       "  0.6198347107438017,\n",
       "  0.5991735537190083,\n",
       "  0.6115702479338843,\n",
       "  0.5950413223140496,\n",
       "  0.5991735537190083,\n",
       "  0.5909090909090909,\n",
       "  0.5909090909090909,\n",
       "  0.5909090909090909,\n",
       "  0.5950413223140496,\n",
       "  0.5950413223140496,\n",
       "  0.5909090909090909,\n",
       "  0.5785123966942148,\n",
       "  0.5826446280991735,\n",
       "  0.5826446280991735,\n",
       "  0.5909090909090909,\n",
       "  0.5826446280991735,\n",
       "  0.5950413223140496,\n",
       "  0.5785123966942148,\n",
       "  0.5826446280991735,\n",
       "  0.5743801652892562,\n",
       "  0.5826446280991735,\n",
       "  0.5743801652892562],\n",
       " [0.5573770491803278,\n",
       "  0.5409836065573771,\n",
       "  0.5737704918032787,\n",
       "  0.5737704918032787,\n",
       "  0.5409836065573771,\n",
       "  0.5573770491803278,\n",
       "  0.6229508196721312,\n",
       "  0.5901639344262295,\n",
       "  0.6229508196721312,\n",
       "  0.5901639344262295,\n",
       "  0.6065573770491803,\n",
       "  0.6229508196721312,\n",
       "  0.5901639344262295,\n",
       "  0.5901639344262295,\n",
       "  0.6229508196721312,\n",
       "  0.6065573770491803,\n",
       "  0.6065573770491803,\n",
       "  0.5901639344262295,\n",
       "  0.5737704918032787,\n",
       "  0.5737704918032787,\n",
       "  0.6065573770491803,\n",
       "  0.5901639344262295,\n",
       "  0.6229508196721312,\n",
       "  0.6229508196721312,\n",
       "  0.6229508196721312,\n",
       "  0.6229508196721312,\n",
       "  0.6229508196721312,\n",
       "  0.6229508196721312,\n",
       "  0.6229508196721312,\n",
       "  0.6229508196721312,\n",
       "  0.639344262295082,\n",
       "  0.6229508196721312,\n",
       "  0.6065573770491803,\n",
       "  0.639344262295082,\n",
       "  0.6229508196721312,\n",
       "  0.639344262295082,\n",
       "  0.6229508196721312,\n",
       "  0.6229508196721312,\n",
       "  0.6229508196721312,\n",
       "  0.639344262295082,\n",
       "  0.639344262295082,\n",
       "  0.6557377049180327,\n",
       "  0.639344262295082,\n",
       "  0.639344262295082,\n",
       "  0.6229508196721312,\n",
       "  0.639344262295082,\n",
       "  0.6229508196721312,\n",
       "  0.639344262295082,\n",
       "  0.6229508196721312,\n",
       "  0.6229508196721312,\n",
       "  0.6229508196721312,\n",
       "  0.6229508196721312,\n",
       "  0.6229508196721312,\n",
       "  0.6229508196721312,\n",
       "  0.5901639344262295,\n",
       "  0.6065573770491803,\n",
       "  0.6065573770491803,\n",
       "  0.5901639344262295,\n",
       "  0.6065573770491803,\n",
       "  0.6065573770491803,\n",
       "  0.6065573770491803,\n",
       "  0.6065573770491803,\n",
       "  0.6065573770491803,\n",
       "  0.6065573770491803,\n",
       "  0.6065573770491803,\n",
       "  0.5901639344262295,\n",
       "  0.6065573770491803,\n",
       "  0.6065573770491803,\n",
       "  0.6065573770491803,\n",
       "  0.5901639344262295,\n",
       "  0.5901639344262295,\n",
       "  0.5901639344262295,\n",
       "  0.5901639344262295,\n",
       "  0.5901639344262295,\n",
       "  0.5901639344262295,\n",
       "  0.5901639344262295,\n",
       "  0.5737704918032787,\n",
       "  0.5737704918032787,\n",
       "  0.5737704918032787,\n",
       "  0.5737704918032787,\n",
       "  0.5901639344262295,\n",
       "  0.5901639344262295,\n",
       "  0.5901639344262295,\n",
       "  0.6065573770491803,\n",
       "  0.6229508196721312,\n",
       "  0.5901639344262295,\n",
       "  0.6065573770491803,\n",
       "  0.6065573770491803,\n",
       "  0.6229508196721312,\n",
       "  0.6229508196721312,\n",
       "  0.6557377049180327,\n",
       "  0.639344262295082,\n",
       "  0.639344262295082,\n",
       "  0.5901639344262295,\n",
       "  0.6065573770491803,\n",
       "  0.5901639344262295,\n",
       "  0.5737704918032787,\n",
       "  0.5901639344262295,\n",
       "  0.5901639344262295,\n",
       "  0.5901639344262295,\n",
       "  0.5901639344262295,\n",
       "  0.5901639344262295,\n",
       "  0.6065573770491803,\n",
       "  0.6065573770491803,\n",
       "  0.5901639344262295,\n",
       "  0.6065573770491803,\n",
       "  0.5901639344262295,\n",
       "  0.5901639344262295,\n",
       "  0.5901639344262295,\n",
       "  0.5737704918032787,\n",
       "  0.6065573770491803,\n",
       "  0.6065573770491803,\n",
       "  0.6065573770491803,\n",
       "  0.5901639344262295,\n",
       "  0.5737704918032787,\n",
       "  0.5901639344262295,\n",
       "  0.6065573770491803,\n",
       "  0.5901639344262295,\n",
       "  0.6229508196721312,\n",
       "  0.6229508196721312,\n",
       "  0.6229508196721312,\n",
       "  0.6229508196721312,\n",
       "  0.6229508196721312,\n",
       "  0.6065573770491803,\n",
       "  0.6229508196721312,\n",
       "  0.6065573770491803,\n",
       "  0.6065573770491803,\n",
       "  0.6065573770491803,\n",
       "  0.6065573770491803,\n",
       "  0.5901639344262295,\n",
       "  0.5901639344262295,\n",
       "  0.5901639344262295,\n",
       "  0.5901639344262295,\n",
       "  0.5901639344262295,\n",
       "  0.5901639344262295,\n",
       "  0.5901639344262295,\n",
       "  0.6065573770491803,\n",
       "  0.5901639344262295,\n",
       "  0.6065573770491803,\n",
       "  0.5901639344262295,\n",
       "  0.6229508196721312,\n",
       "  0.6065573770491803,\n",
       "  0.6065573770491803,\n",
       "  0.5901639344262295,\n",
       "  0.6065573770491803,\n",
       "  0.6065573770491803,\n",
       "  0.6229508196721312,\n",
       "  0.6229508196721312,\n",
       "  0.5901639344262295,\n",
       "  0.5573770491803278,\n",
       "  0.5737704918032787,\n",
       "  0.5901639344262295,\n",
       "  0.5737704918032787,\n",
       "  0.5737704918032787,\n",
       "  0.5901639344262295,\n",
       "  0.5901639344262295,\n",
       "  0.5901639344262295,\n",
       "  0.5737704918032787,\n",
       "  0.5737704918032787,\n",
       "  0.5901639344262295,\n",
       "  0.5737704918032787,\n",
       "  0.5901639344262295,\n",
       "  0.5573770491803278,\n",
       "  0.5737704918032787,\n",
       "  0.5573770491803278,\n",
       "  0.5573770491803278,\n",
       "  0.5573770491803278,\n",
       "  0.5737704918032787,\n",
       "  0.5409836065573771,\n",
       "  0.5737704918032787,\n",
       "  0.5081967213114754,\n",
       "  0.5245901639344263,\n",
       "  0.5245901639344263,\n",
       "  0.5409836065573771,\n",
       "  0.5737704918032787,\n",
       "  0.5573770491803278,\n",
       "  0.5573770491803278,\n",
       "  0.5573770491803278,\n",
       "  0.5409836065573771,\n",
       "  0.5409836065573771,\n",
       "  0.5409836065573771,\n",
       "  0.5409836065573771,\n",
       "  0.5409836065573771,\n",
       "  0.5409836065573771,\n",
       "  0.5409836065573771,\n",
       "  0.5409836065573771,\n",
       "  0.5245901639344263,\n",
       "  0.5245901639344263,\n",
       "  0.5245901639344263,\n",
       "  0.5245901639344263,\n",
       "  0.5245901639344263,\n",
       "  0.5409836065573771,\n",
       "  0.5245901639344263,\n",
       "  0.5409836065573771,\n",
       "  0.5245901639344263,\n",
       "  0.5409836065573771,\n",
       "  0.5245901639344263,\n",
       "  0.5245901639344263,\n",
       "  0.5409836065573771])"
      ]
     },
     "execution_count": 56,
     "metadata": {},
     "output_type": "execute_result"
    }
   ],
   "source": [
    "train_scores,test_score"
   ]
  },
  {
   "cell_type": "code",
   "execution_count": 57,
   "metadata": {},
   "outputs": [
    {
     "name": "stdout",
     "output_type": "stream",
     "text": [
      "Maximum KNN score on the test Data : 65.57% \n",
      "Maximum KNN score on the test Data : 100.00% \n"
     ]
    },
    {
     "data": {
      "image/png": "[encoded data removed]",
      "text/plain": [
       "<Figure size 432x288 with 1 Axes>"
      ]
     },
     "metadata": {
      "needs_background": "light"
     },
     "output_type": "display_data"
    }
   ],
   "source": [
    "plt.plot(neighbors,train_scores,label='Train Score')\n",
    "plt.plot(neighbors,test_score,label='Test Score')\n",
    "plt.xlabel(\"Number of neighbors\")\n",
    "plt.ylabel(\"Model Score\")\n",
    "plt.legend();\n",
    "print(f\"Maximum KNN score on the test Data : {max(test_score)*100:.2f}% \")\n",
    "print(f\"Maximum KNN score on the test Data : {max(train_scores)*100:.2f}% \")"
   ]
  },
  {
   "cell_type": "markdown",
   "metadata": {},
   "source": [
    "HyperParameter tuning with RandomizedSearhCV"
   ]
  },
  {
   "cell_type": "code",
   "execution_count": 63,
   "metadata": {},
   "outputs": [],
   "source": [
    "log_reg_grid={\n",
    "    'C':np.logspace(-4,4,20),\n",
    "    'solver':[\"liblinear\"]\n",
    "}\n",
    "rf_grid={\n",
    "    'n_estimators':np.arange(10,1000,50),\n",
    "    'max_depth':[None,3,5,10],\n",
    "    'min_samples_split':np.arange(2,20,2),\n",
    "    'min_samples_leaf':np.arange(1,20,2),\n",
    "}"
   ]
  },
  {
   "cell_type": "code",
   "execution_count": 59,
   "metadata": {},
   "outputs": [
    {
     "name": "stdout",
     "output_type": "stream",
     "text": [
      "Fitting 5 folds for each of 20 candidates, totalling 100 fits\n"
     ]
    },
    {
     "data": {
      "text/plain": [
       "RandomizedSearchCV(cv=5, estimator=LogisticRegression(), n_iter=20,\n",
       "                   param_distributions={'C': array([1.00000000e-04, 2.63665090e-04, 6.95192796e-04, 1.83298071e-03,\n",
       "       4.83293024e-03, 1.27427499e-02, 3.35981829e-02, 8.85866790e-02,\n",
       "       2.33572147e-01, 6.15848211e-01, 1.62377674e+00, 4.28133240e+00,\n",
       "       1.12883789e+01, 2.97635144e+01, 7.84759970e+01, 2.06913808e+02,\n",
       "       5.45559478e+02, 1.43844989e+03, 3.79269019e+03, 1.00000000e+04]),\n",
       "                                        'solver': ['liblinear']},\n",
       "                   verbose=True)"
      ]
     },
     "execution_count": 59,
     "metadata": {},
     "output_type": "execute_result"
    }
   ],
   "source": [
    "np.random.seed(42)\n",
    "\n",
    "rs_log_reg=RandomizedSearchCV(LogisticRegression(),param_distributions=log_reg_grid,cv=5,n_iter=20,verbose=True)\n",
    "rs_log_reg.fit(X_train,Y_train)"
   ]
  },
  {
   "cell_type": "code",
   "execution_count": 60,
   "metadata": {},
   "outputs": [
    {
     "data": {
      "text/plain": [
       "{'solver': 'liblinear', 'C': 0.615848211066026}"
      ]
     },
     "execution_count": 60,
     "metadata": {},
     "output_type": "execute_result"
    }
   ],
   "source": [
    "rs_log_reg.best_params_"
   ]
  },
  {
   "cell_type": "code",
   "execution_count": 61,
   "metadata": {},
   "outputs": [
    {
     "data": {
      "text/plain": [
       "0.8360655737704918"
      ]
     },
     "execution_count": 61,
     "metadata": {},
     "output_type": "execute_result"
    }
   ],
   "source": [
    "rs_log_reg.score(X_test,Y_test)"
   ]
  },
  {
   "cell_type": "code",
   "execution_count": 70,
   "metadata": {},
   "outputs": [
    {
     "name": "stdout",
     "output_type": "stream",
     "text": [
      "Fitting 5 folds for each of 20 candidates, totalling 100 fits\n",
      "[CV] END max_depth=None, min_samples_leaf=5, min_samples_split=18, n_estimators=360; total time=   0.5s\n",
      "[CV] END max_depth=None, min_samples_leaf=5, min_samples_split=18, n_estimators=360; total time=   0.4s\n",
      "[CV] END max_depth=None, min_samples_leaf=5, min_samples_split=18, n_estimators=360; total time=   0.6s\n",
      "[CV] END max_depth=None, min_samples_leaf=5, min_samples_split=18, n_estimators=360; total time=   0.5s\n",
      "[CV] END max_depth=None, min_samples_leaf=5, min_samples_split=18, n_estimators=360; total time=   0.3s\n",
      "[CV] END max_depth=10, min_samples_leaf=19, min_samples_split=16, n_estimators=660; total time=   0.6s\n",
      "[CV] END max_depth=10, min_samples_leaf=19, min_samples_split=16, n_estimators=660; total time=   0.8s\n",
      "[CV] END max_depth=10, min_samples_leaf=19, min_samples_split=16, n_estimators=660; total time=   1.0s\n",
      "[CV] END max_depth=10, min_samples_leaf=19, min_samples_split=16, n_estimators=660; total time=   0.7s\n",
      "[CV] END max_depth=10, min_samples_leaf=19, min_samples_split=16, n_estimators=660; total time=   0.7s\n",
      "[CV] END max_depth=None, min_samples_leaf=1, min_samples_split=4, n_estimators=660; total time=   0.7s\n",
      "[CV] END max_depth=None, min_samples_leaf=1, min_samples_split=4, n_estimators=660; total time=   0.7s\n",
      "[CV] END max_depth=None, min_samples_leaf=1, min_samples_split=4, n_estimators=660; total time=   0.6s\n",
      "[CV] END max_depth=None, min_samples_leaf=1, min_samples_split=4, n_estimators=660; total time=   0.7s\n",
      "[CV] END max_depth=None, min_samples_leaf=1, min_samples_split=4, n_estimators=660; total time=   1.0s\n",
      "[CV] END max_depth=10, min_samples_leaf=9, min_samples_split=10, n_estimators=110; total time=   0.0s\n",
      "[CV] END max_depth=10, min_samples_leaf=9, min_samples_split=10, n_estimators=110; total time=   0.0s\n",
      "[CV] END max_depth=10, min_samples_leaf=9, min_samples_split=10, n_estimators=110; total time=   0.0s\n",
      "[CV] END max_depth=10, min_samples_leaf=9, min_samples_split=10, n_estimators=110; total time=   0.0s\n",
      "[CV] END max_depth=10, min_samples_leaf=9, min_samples_split=10, n_estimators=110; total time=   0.0s\n",
      "[CV] END max_depth=5, min_samples_leaf=17, min_samples_split=16, n_estimators=310; total time=   0.3s\n",
      "[CV] END max_depth=5, min_samples_leaf=17, min_samples_split=16, n_estimators=310; total time=   0.2s\n",
      "[CV] END max_depth=5, min_samples_leaf=17, min_samples_split=16, n_estimators=310; total time=   0.4s\n",
      "[CV] END max_depth=5, min_samples_leaf=17, min_samples_split=16, n_estimators=310; total time=   0.5s\n",
      "[CV] END max_depth=5, min_samples_leaf=17, min_samples_split=16, n_estimators=310; total time=   0.3s\n",
      "[CV] END max_depth=10, min_samples_leaf=11, min_samples_split=10, n_estimators=910; total time=   1.4s\n",
      "[CV] END max_depth=10, min_samples_leaf=11, min_samples_split=10, n_estimators=910; total time=   1.1s\n",
      "[CV] END max_depth=10, min_samples_leaf=11, min_samples_split=10, n_estimators=910; total time=   1.0s\n",
      "[CV] END max_depth=10, min_samples_leaf=11, min_samples_split=10, n_estimators=910; total time=   2.1s\n",
      "[CV] END max_depth=10, min_samples_leaf=11, min_samples_split=10, n_estimators=910; total time=   2.2s\n",
      "[CV] END max_depth=10, min_samples_leaf=13, min_samples_split=8, n_estimators=310; total time=   1.4s\n",
      "[CV] END max_depth=10, min_samples_leaf=13, min_samples_split=8, n_estimators=310; total time=   1.4s\n",
      "[CV] END max_depth=10, min_samples_leaf=13, min_samples_split=8, n_estimators=310; total time=   0.3s\n",
      "[CV] END max_depth=10, min_samples_leaf=13, min_samples_split=8, n_estimators=310; total time=   0.3s\n",
      "[CV] END max_depth=10, min_samples_leaf=13, min_samples_split=8, n_estimators=310; total time=   0.3s\n",
      "[CV] END max_depth=3, min_samples_leaf=3, min_samples_split=10, n_estimators=960; total time=   1.0s\n",
      "[CV] END max_depth=3, min_samples_leaf=3, min_samples_split=10, n_estimators=960; total time=   1.0s\n",
      "[CV] END max_depth=3, min_samples_leaf=3, min_samples_split=10, n_estimators=960; total time=   1.2s\n",
      "[CV] END max_depth=3, min_samples_leaf=3, min_samples_split=10, n_estimators=960; total time=   1.2s\n",
      "[CV] END max_depth=3, min_samples_leaf=3, min_samples_split=10, n_estimators=960; total time=   1.0s\n",
      "[CV] END max_depth=None, min_samples_leaf=1, min_samples_split=2, n_estimators=460; total time=   0.5s\n",
      "[CV] END max_depth=None, min_samples_leaf=1, min_samples_split=2, n_estimators=460; total time=   0.4s\n",
      "[CV] END max_depth=None, min_samples_leaf=1, min_samples_split=2, n_estimators=460; total time=   0.6s\n",
      "[CV] END max_depth=None, min_samples_leaf=1, min_samples_split=2, n_estimators=460; total time=   0.7s\n",
      "[CV] END max_depth=None, min_samples_leaf=1, min_samples_split=2, n_estimators=460; total time=   0.5s\n",
      "[CV] END max_depth=None, min_samples_leaf=19, min_samples_split=12, n_estimators=360; total time=   0.5s\n",
      "[CV] END max_depth=None, min_samples_leaf=19, min_samples_split=12, n_estimators=360; total time=   0.4s\n",
      "[CV] END max_depth=None, min_samples_leaf=19, min_samples_split=12, n_estimators=360; total time=   0.3s\n",
      "[CV] END max_depth=None, min_samples_leaf=19, min_samples_split=12, n_estimators=360; total time=   0.4s\n",
      "[CV] END max_depth=None, min_samples_leaf=19, min_samples_split=12, n_estimators=360; total time=   0.4s\n",
      "[CV] END max_depth=3, min_samples_leaf=11, min_samples_split=8, n_estimators=910; total time=   1.1s\n",
      "[CV] END max_depth=3, min_samples_leaf=11, min_samples_split=8, n_estimators=910; total time=   1.1s\n",
      "[CV] END max_depth=3, min_samples_leaf=11, min_samples_split=8, n_estimators=910; total time=   1.4s\n",
      "[CV] END max_depth=3, min_samples_leaf=11, min_samples_split=8, n_estimators=910; total time=   0.8s\n",
      "[CV] END max_depth=3, min_samples_leaf=11, min_samples_split=8, n_estimators=910; total time=   1.1s\n",
      "[CV] END max_depth=3, min_samples_leaf=19, min_samples_split=2, n_estimators=10; total time=   0.0s\n",
      "[CV] END max_depth=3, min_samples_leaf=19, min_samples_split=2, n_estimators=10; total time=   0.0s\n",
      "[CV] END max_depth=3, min_samples_leaf=19, min_samples_split=2, n_estimators=10; total time=   0.0s\n",
      "[CV] END max_depth=3, min_samples_leaf=19, min_samples_split=2, n_estimators=10; total time=   0.0s\n",
      "[CV] END max_depth=3, min_samples_leaf=19, min_samples_split=2, n_estimators=10; total time=   0.0s\n",
      "[CV] END max_depth=10, min_samples_leaf=15, min_samples_split=8, n_estimators=610; total time=   0.9s\n",
      "[CV] END max_depth=10, min_samples_leaf=15, min_samples_split=8, n_estimators=610; total time=   0.7s\n",
      "[CV] END max_depth=10, min_samples_leaf=15, min_samples_split=8, n_estimators=610; total time=   0.6s\n",
      "[CV] END max_depth=10, min_samples_leaf=15, min_samples_split=8, n_estimators=610; total time=   0.6s\n",
      "[CV] END max_depth=10, min_samples_leaf=15, min_samples_split=8, n_estimators=610; total time=   0.5s\n",
      "[CV] END max_depth=10, min_samples_leaf=15, min_samples_split=2, n_estimators=760; total time=   0.7s\n",
      "[CV] END max_depth=10, min_samples_leaf=15, min_samples_split=2, n_estimators=760; total time=   0.8s\n",
      "[CV] END max_depth=10, min_samples_leaf=15, min_samples_split=2, n_estimators=760; total time=   0.7s\n",
      "[CV] END max_depth=10, min_samples_leaf=15, min_samples_split=2, n_estimators=760; total time=   0.7s\n",
      "[CV] END max_depth=10, min_samples_leaf=15, min_samples_split=2, n_estimators=760; total time=   1.0s\n",
      "[CV] END max_depth=3, min_samples_leaf=15, min_samples_split=18, n_estimators=360; total time=   0.6s\n",
      "[CV] END max_depth=3, min_samples_leaf=15, min_samples_split=18, n_estimators=360; total time=   0.3s\n",
      "[CV] END max_depth=3, min_samples_leaf=15, min_samples_split=18, n_estimators=360; total time=   0.3s\n",
      "[CV] END max_depth=3, min_samples_leaf=15, min_samples_split=18, n_estimators=360; total time=   0.3s\n",
      "[CV] END max_depth=3, min_samples_leaf=15, min_samples_split=18, n_estimators=360; total time=   0.3s\n",
      "[CV] END max_depth=3, min_samples_leaf=15, min_samples_split=4, n_estimators=910; total time=   0.9s\n",
      "[CV] END max_depth=3, min_samples_leaf=15, min_samples_split=4, n_estimators=910; total time=   0.8s\n",
      "[CV] END max_depth=3, min_samples_leaf=15, min_samples_split=4, n_estimators=910; total time=   0.8s\n",
      "[CV] END max_depth=3, min_samples_leaf=15, min_samples_split=4, n_estimators=910; total time=   0.9s\n",
      "[CV] END max_depth=3, min_samples_leaf=15, min_samples_split=4, n_estimators=910; total time=   0.8s\n",
      "[CV] END max_depth=5, min_samples_leaf=5, min_samples_split=10, n_estimators=210; total time=   0.1s\n",
      "[CV] END max_depth=5, min_samples_leaf=5, min_samples_split=10, n_estimators=210; total time=   0.1s\n",
      "[CV] END max_depth=5, min_samples_leaf=5, min_samples_split=10, n_estimators=210; total time=   0.1s\n",
      "[CV] END max_depth=5, min_samples_leaf=5, min_samples_split=10, n_estimators=210; total time=   0.2s\n",
      "[CV] END max_depth=5, min_samples_leaf=5, min_samples_split=10, n_estimators=210; total time=   0.1s\n",
      "[CV] END max_depth=None, min_samples_leaf=13, min_samples_split=10, n_estimators=810; total time=   1.5s\n",
      "[CV] END max_depth=None, min_samples_leaf=13, min_samples_split=10, n_estimators=810; total time=   0.8s\n",
      "[CV] END max_depth=None, min_samples_leaf=13, min_samples_split=10, n_estimators=810; total time=   0.8s\n",
      "[CV] END max_depth=None, min_samples_leaf=13, min_samples_split=10, n_estimators=810; total time=   0.8s\n",
      "[CV] END max_depth=None, min_samples_leaf=13, min_samples_split=10, n_estimators=810; total time=   0.8s\n",
      "[CV] END max_depth=10, min_samples_leaf=19, min_samples_split=2, n_estimators=760; total time=   0.7s\n",
      "[CV] END max_depth=10, min_samples_leaf=19, min_samples_split=2, n_estimators=760; total time=   0.7s\n",
      "[CV] END max_depth=10, min_samples_leaf=19, min_samples_split=2, n_estimators=760; total time=   0.7s\n",
      "[CV] END max_depth=10, min_samples_leaf=19, min_samples_split=2, n_estimators=760; total time=   0.7s\n",
      "[CV] END max_depth=10, min_samples_leaf=19, min_samples_split=2, n_estimators=760; total time=   0.7s\n",
      "[CV] END max_depth=10, min_samples_leaf=1, min_samples_split=2, n_estimators=210; total time=   0.1s\n",
      "[CV] END max_depth=10, min_samples_leaf=1, min_samples_split=2, n_estimators=210; total time=   0.1s\n",
      "[CV] END max_depth=10, min_samples_leaf=1, min_samples_split=2, n_estimators=210; total time=   0.1s\n",
      "[CV] END max_depth=10, min_samples_leaf=1, min_samples_split=2, n_estimators=210; total time=   0.1s\n",
      "[CV] END max_depth=10, min_samples_leaf=1, min_samples_split=2, n_estimators=210; total time=   0.2s\n"
     ]
    },
    {
     "data": {
      "text/plain": [
       "RandomizedSearchCV(cv=5, estimator=RandomForestClassifier(), n_iter=20,\n",
       "                   param_distributions={'max_depth': [None, 3, 5, 10],\n",
       "                                        'min_samples_leaf': array([ 1,  3,  5,  7,  9, 11, 13, 15, 17, 19]),\n",
       "                                        'min_samples_split': array([ 2,  4,  6,  8, 10, 12, 14, 16, 18]),\n",
       "                                        'n_estimators': array([ 10,  60, 110, 160, 210, 260, 310, 360, 410, 460, 510, 560, 610,\n",
       "       660, 710, 760, 810, 860, 910, 960])},\n",
       "                   verbose=2)"
      ]
     },
     "execution_count": 70,
     "metadata": {},
     "output_type": "execute_result"
    }
   ],
   "source": [
    "rs_rand_clf=RandomizedSearchCV(RandomForestClassifier(),param_distributions=rf_grid,cv=5,n_iter=20,verbose=2)\n",
    "rs_rand_clf.fit(X_train,Y_train)"
   ]
  },
  {
   "cell_type": "code",
   "execution_count": 71,
   "metadata": {},
   "outputs": [
    {
     "data": {
      "text/plain": [
       "RandomForestClassifier(max_depth=3, min_samples_leaf=3, min_samples_split=10,\n",
       "                       n_estimators=960)"
      ]
     },
     "execution_count": 71,
     "metadata": {},
     "output_type": "execute_result"
    }
   ],
   "source": [
    "rs_rand_clf.best_estimator_"
   ]
  },
  {
   "cell_type": "code",
   "execution_count": 72,
   "metadata": {},
   "outputs": [
    {
     "data": {
      "text/plain": [
       "0.8360655737704918"
      ]
     },
     "execution_count": 72,
     "metadata": {},
     "output_type": "execute_result"
    }
   ],
   "source": [
    "rs_rand_clf.score(X_test,Y_test)"
   ]
  },
  {
   "cell_type": "code",
   "execution_count": 73,
   "metadata": {},
   "outputs": [],
   "source": [
    "log_red_grid={\"C\":np.logspace(-4,4,30),\"solver\":[\"liblinear\"]}\n",
    "gs_log_grid={\n",
    "    \n",
    "}"
   ]
  },
  {
   "cell_type": "code",
   "execution_count": 74,
   "metadata": {},
   "outputs": [
    {
     "name": "stdout",
     "output_type": "stream",
     "text": [
      "Fitting 5 folds for each of 30 candidates, totalling 150 fits\n"
     ]
    },
    {
     "data": {
      "text/plain": [
       "GridSearchCV(cv=5, estimator=LogisticRegression(),\n",
       "             param_grid={'C': array([1.00000000e-04, 1.88739182e-04, 3.56224789e-04, 6.72335754e-04,\n",
       "       1.26896100e-03, 2.39502662e-03, 4.52035366e-03, 8.53167852e-03,\n",
       "       1.61026203e-02, 3.03919538e-02, 5.73615251e-02, 1.08263673e-01,\n",
       "       2.04335972e-01, 3.85662042e-01, 7.27895384e-01, 1.37382380e+00,\n",
       "       2.59294380e+00, 4.89390092e+00, 9.23670857e+00, 1.74332882e+01,\n",
       "       3.29034456e+01, 6.21016942e+01, 1.17210230e+02, 2.21221629e+02,\n",
       "       4.17531894e+02, 7.88046282e+02, 1.48735211e+03, 2.80721620e+03,\n",
       "       5.29831691e+03, 1.00000000e+04]),\n",
       "                         'solver': ['liblinear']},\n",
       "             verbose=True)"
      ]
     },
     "execution_count": 74,
     "metadata": {},
     "output_type": "execute_result"
    }
   ],
   "source": [
    "gs_log_reg=GridSearchCV(LogisticRegression(),param_grid=log_red_grid,cv=5,verbose=True)\n",
    "gs_log_reg.fit(X_train,Y_train)"
   ]
  },
  {
   "cell_type": "code",
   "execution_count": 75,
   "metadata": {},
   "outputs": [
    {
     "data": {
      "text/plain": [
       "LogisticRegression(C=0.7278953843983146, solver='liblinear')"
      ]
     },
     "execution_count": 75,
     "metadata": {},
     "output_type": "execute_result"
    }
   ],
   "source": [
    "gs_log_reg.best_estimator_"
   ]
  },
  {
   "cell_type": "code",
   "execution_count": 76,
   "metadata": {},
   "outputs": [
    {
     "data": {
      "text/plain": [
       "0.8360655737704918"
      ]
     },
     "execution_count": 76,
     "metadata": {},
     "output_type": "execute_result"
    }
   ],
   "source": [
    "gs_log_reg.score(X_test,Y_test)"
   ]
  },
  {
   "cell_type": "markdown",
   "metadata": {},
   "source": [
    "<h2>Evaluting Our Mechine Learning Model</h2>"
   ]
  },
  {
   "cell_type": "code",
   "execution_count": 77,
   "metadata": {},
   "outputs": [
    {
     "data": {
      "text/plain": [
       "array([0, 0, 1, 1, 1, 1, 1, 0, 0, 1, 1, 1, 1, 1, 0, 1, 0, 0, 1, 0, 0, 0,\n",
       "       0, 1, 0, 1, 1, 1, 0, 0, 0, 1, 0, 1, 1, 0, 0, 1, 1, 1, 1, 1, 0, 1,\n",
       "       1, 1, 1, 1, 1, 1, 0, 0, 1, 0, 1, 0, 1, 1, 0, 1, 1], dtype=int64)"
      ]
     },
     "execution_count": 77,
     "metadata": {},
     "output_type": "execute_result"
    }
   ],
   "source": [
    "y_preds=gs_log_reg.predict(X_test)\n",
    "y_preds"
   ]
  },
  {
   "cell_type": "code",
   "execution_count": 80,
   "metadata": {},
   "outputs": [
    {
     "data": {
      "text/plain": [
       "(array([0.        , 0.        , 0.        , 0.03571429, 0.03571429,\n",
       "        0.07142857, 0.07142857, 0.10714286, 0.10714286, 0.5       ,\n",
       "        0.5       , 0.64285714, 0.64285714, 0.82142857, 0.82142857,\n",
       "        1.        ]),\n",
       " array([0.        , 0.03030303, 0.3030303 , 0.3030303 , 0.75757576,\n",
       "        0.75757576, 0.78787879, 0.78787879, 0.90909091, 0.90909091,\n",
       "        0.93939394, 0.93939394, 0.96969697, 0.96969697, 1.        ,\n",
       "        1.        ]),\n",
       " array([1.97601715, 0.97601715, 0.91190472, 0.90561571, 0.67838808,\n",
       "        0.66943081, 0.667393  , 0.66091891, 0.60613999, 0.17657287,\n",
       "        0.14590462, 0.09740738, 0.08440956, 0.04152225, 0.03543961,\n",
       "        0.006817  ]))"
      ]
     },
     "execution_count": 80,
     "metadata": {},
     "output_type": "execute_result"
    }
   ],
   "source": [
    "np.random.seed(seed=42)\n",
    "Y_probs=gs_log_reg.predict_proba(X_test)\n",
    "Y_probs_positive=Y_probs[:,1]\n",
    "ftr,ptr,threshold=roc_curve(Y_test,Y_probs_positive)\n",
    "ftr,ptr,threshold"
   ]
  },
  {
   "cell_type": "code",
   "execution_count": 88,
   "metadata": {},
   "outputs": [
    {
     "data": {
      "image/png": "[encoded data removed]",
      "text/plain": [
       "<Figure size 432x288 with 1 Axes>"
      ]
     },
     "metadata": {
      "needs_background": "light"
     },
     "output_type": "display_data"
    }
   ],
   "source": [
    "def plot_roc_curve(fpr,tpr):\n",
    "    plt.plot(fpr,tpr,color='orange',label=\"ROC\")\n",
    "    plt.plot([0,1],[0,1],color='darkblue',linestyle='--',label=\"Gussing\")\n",
    "    plt.xlabel(\"FPR\")\n",
    "    plt.ylabel(\"TPR\")\n",
    "    plt.title(\"Receiver Operating Characteristic Curve\")\n",
    "    plt.legend()\n",
    "    plt.show()\n",
    "plot_roc_curve(ftr,ptr)"
   ]
  },
  {
   "cell_type": "code",
   "execution_count": 84,
   "metadata": {},
   "outputs": [
    {
     "data": {
      "text/plain": [
       "0.9090909090909092"
      ]
     },
     "execution_count": 84,
     "metadata": {},
     "output_type": "execute_result"
    }
   ],
   "source": [
    "roc_auc_score(Y_test,Y_probs_positive)"
   ]
  },
  {
   "cell_type": "code",
   "execution_count": 87,
   "metadata": {},
   "outputs": [
    {
     "name": "stderr",
     "output_type": "stream",
     "text": [
      "c:\\Users\\Hello\\AppData\\Local\\Programs\\Python\\Python310\\lib\\site-packages\\sklearn\\utils\\deprecation.py:87: FutureWarning: Function plot_roc_curve is deprecated; Function :func:`plot_roc_curve` is deprecated in 1.0 and will be removed in 1.2. Use one of the class methods: :meth:`sklearn.metric.RocCurveDisplay.from_predictions` or :meth:`sklearn.metric.RocCurveDisplay.from_estimator`.\n",
      "  warnings.warn(msg, category=FutureWarning)\n"
     ]
    },
    {
     "data": {
      "text/plain": [
       "<sklearn.metrics._plot.roc_curve.RocCurveDisplay at 0x16bba144040>"
      ]
     },
     "execution_count": 87,
     "metadata": {},
     "output_type": "execute_result"
    },
    {
     "data": {
      "image/png": "[encoded data removed]",
      "text/plain": [
       "<Figure size 432x288 with 1 Axes>"
      ]
     },
     "metadata": {
      "needs_background": "light"
     },
     "output_type": "display_data"
    }
   ],
   "source": [
    "plot_roc_curve(gs_log_reg,X_test,Y_test)"
   ]
  },
  {
   "cell_type": "code",
   "execution_count": 89,
   "metadata": {},
   "outputs": [
    {
     "data": {
      "image/png": "[encoded data removed]",
      "text/plain": [
       "<Figure size 432x288 with 2 Axes>"
      ]
     },
     "metadata": {
      "needs_background": "light"
     },
     "output_type": "display_data"
    }
   ],
   "source": [
    "from sklearn.metrics import ConfusionMatrixDisplay\n",
    "ConfusionMatrixDisplay.from_estimator(estimator=gs_log_reg,X=X,y=Y);"
   ]
  },
  {
   "cell_type": "code",
   "execution_count": 90,
   "metadata": {},
   "outputs": [
    {
     "name": "stdout",
     "output_type": "stream",
     "text": [
      "              precision    recall  f1-score   support\n",
      "\n",
      "           0       0.88      0.75      0.81        28\n",
      "           1       0.81      0.91      0.86        33\n",
      "\n",
      "    accuracy                           0.84        61\n",
      "   macro avg       0.84      0.83      0.83        61\n",
      "weighted avg       0.84      0.84      0.83        61\n",
      "\n"
     ]
    }
   ],
   "source": [
    "print(classification_report(Y_test,y_preds))"
   ]
  },
  {
   "cell_type": "code",
   "execution_count": 91,
   "metadata": {},
   "outputs": [
    {
     "name": "stdout",
     "output_type": "stream",
     "text": [
      "Fitting 5 folds for each of 30 candidates, totalling 150 fits\n",
      "Fitting 5 folds for each of 30 candidates, totalling 150 fits\n",
      "Fitting 5 folds for each of 30 candidates, totalling 150 fits\n",
      "Fitting 5 folds for each of 30 candidates, totalling 150 fits\n",
      "Fitting 5 folds for each of 30 candidates, totalling 150 fits\n"
     ]
    },
    {
     "data": {
      "text/plain": [
       "array([0.81967213, 0.90163934, 0.8852459 , 0.86666667, 0.75      ])"
      ]
     },
     "execution_count": 91,
     "metadata": {},
     "output_type": "execute_result"
    }
   ],
   "source": [
    "cross_val_score(estimator=gs_log_reg,X=X,y=Y,cv=5,scoring=None)"
   ]
  },
  {
   "cell_type": "code",
   "execution_count": 93,
   "metadata": {},
   "outputs": [
    {
     "name": "stdout",
     "output_type": "stream",
     "text": [
      "Fitting 5 folds for each of 30 candidates, totalling 150 fits\n",
      "Fitting 5 folds for each of 30 candidates, totalling 150 fits\n",
      "Fitting 5 folds for each of 30 candidates, totalling 150 fits\n",
      "Fitting 5 folds for each of 30 candidates, totalling 150 fits\n",
      "Fitting 5 folds for each of 30 candidates, totalling 150 fits\n"
     ]
    },
    {
     "data": {
      "text/plain": [
       "array([0.775     , 0.88571429, 0.86111111, 0.85714286, 0.725     ])"
      ]
     },
     "execution_count": 93,
     "metadata": {},
     "output_type": "execute_result"
    }
   ],
   "source": [
    "cross_val_score(estimator=gs_log_reg,X=X,y=Y,cv=5,scoring='precision')"
   ]
  },
  {
   "cell_type": "code",
   "execution_count": 94,
   "metadata": {},
   "outputs": [
    {
     "name": "stdout",
     "output_type": "stream",
     "text": [
      "Fitting 5 folds for each of 30 candidates, totalling 150 fits\n",
      "Fitting 5 folds for each of 30 candidates, totalling 150 fits\n",
      "Fitting 5 folds for each of 30 candidates, totalling 150 fits\n",
      "Fitting 5 folds for each of 30 candidates, totalling 150 fits\n",
      "Fitting 5 folds for each of 30 candidates, totalling 150 fits\n"
     ]
    },
    {
     "data": {
      "text/plain": [
       "array([0.93939394, 0.93939394, 0.93939394, 0.90909091, 0.87878788])"
      ]
     },
     "execution_count": 94,
     "metadata": {},
     "output_type": "execute_result"
    }
   ],
   "source": [
    "cross_val_score(estimator=gs_log_reg,X=X,y=Y,cv=5,scoring='recall')"
   ]
  },
  {
   "cell_type": "code",
   "execution_count": 95,
   "metadata": {},
   "outputs": [
    {
     "name": "stdout",
     "output_type": "stream",
     "text": [
      "Fitting 5 folds for each of 30 candidates, totalling 150 fits\n",
      "Fitting 5 folds for each of 30 candidates, totalling 150 fits\n",
      "Fitting 5 folds for each of 30 candidates, totalling 150 fits\n",
      "Fitting 5 folds for each of 30 candidates, totalling 150 fits\n",
      "Fitting 5 folds for each of 30 candidates, totalling 150 fits\n"
     ]
    },
    {
     "data": {
      "text/plain": [
       "array([0.84931507, 0.91176471, 0.89855072, 0.88235294, 0.79452055])"
      ]
     },
     "execution_count": 95,
     "metadata": {},
     "output_type": "execute_result"
    }
   ],
   "source": [
    "cross_val_score(estimator=gs_log_reg,X=X,y=Y,cv=5,scoring='f1')"
   ]
  },
  {
   "cell_type": "markdown",
   "metadata": {},
   "source": [
    "<h2>Feature Importance</h2>"
   ]
  },
  {
   "cell_type": "code",
   "execution_count": 97,
   "metadata": {},
   "outputs": [],
   "source": [
    "clf=LogisticRegression(C=0.7278953843983146,solver='liblinear')\n",
    "clf.fit(X_train,Y_train);"
   ]
  },
  {
   "cell_type": "code",
   "execution_count": 98,
   "metadata": {},
   "outputs": [
    {
     "data": {
      "text/plain": [
       "array([[ 0.01518413, -1.41321784,  0.74601777, -0.01809572, -0.00514983,\n",
       "        -0.25570118,  0.35192357,  0.03582448, -0.49593823, -0.42179122,\n",
       "         0.41811425, -0.80970226, -0.82969153]])"
      ]
     },
     "execution_count": 98,
     "metadata": {},
     "output_type": "execute_result"
    }
   ],
   "source": [
    "clf.coef_"
   ]
  },
  {
   "cell_type": "code",
   "execution_count": 99,
   "metadata": {},
   "outputs": [
    {
     "data": {
      "text/plain": [
       "{'age': 0.015184134168310152,\n",
       " 'sex': -1.4132178376580906,\n",
       " 'cp': 0.7460177667420164,\n",
       " 'trestbps': -0.01809572430948382,\n",
       " 'chol': -0.005149832319402663,\n",
       " 'fbs': -0.2557011826192741,\n",
       " 'restecg': 0.35192356815721115,\n",
       " 'thalach': 0.03582447563755576,\n",
       " 'exang': -0.49593823362963374,\n",
       " 'oldpeak': -0.42179121910648854,\n",
       " 'slope': 0.4181142469142928,\n",
       " 'ca': -0.8097022576081805,\n",
       " 'thal': -0.8296915277954744}"
      ]
     },
     "execution_count": 99,
     "metadata": {},
     "output_type": "execute_result"
    }
   ],
   "source": [
    "feature_dict=dict(zip(df.columns,list(clf.coef_[0])))\n",
    "feature_dict"
   ]
  },
  {
   "cell_type": "code",
   "execution_count": 109,
   "metadata": {},
   "outputs": [
    {
     "data": {
      "image/png": "[encoded data removed]",
      "text/plain": [
       "<Figure size 432x288 with 1 Axes>"
      ]
     },
     "metadata": {
      "needs_background": "light"
     },
     "output_type": "display_data"
    }
   ],
   "source": [
    "main_feature=pd.DataFrame(feature_dict,index=[0])\n",
    "main_feature.T.plot.bar(title=\"Feature Importance\",legend=False);"
   ]
  }
 ],
 "metadata": {
  "kernelspec": {
   "display_name": "Python 3.10.1 64-bit",
   "language": "python",
   "name": "python3"
  },
  "language_info": {
   "codemirror_mode": {
    "name": "ipython",
    "version": 3
   },
   "file_extension": ".py",
   "mimetype": "text/x-python",
   "name": "python",
   "nbconvert_exporter": "python",
   "pygments_lexer": "ipython3",
   "version": "3.10.1"
  },
  "orig_nbformat": 4,
  "vscode": {
   "interpreter": {
    "hash": "7a58e131ee068f189d8d79a6f196862ecf2f1295c59f9b998dcbd6fe095dc999"
   }
  }
 },
 "nbformat": 4,
 "nbformat_minor": 2
}
